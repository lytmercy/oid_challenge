{
 "cells": [
  {
   "cell_type": "code",
   "execution_count": 1,
   "metadata": {
    "collapsed": true,
    "pycharm": {
     "name": "#%%\n"
    }
   },
   "outputs": [],
   "source": [
    "# Import requirement libraries\n",
    "import tensorflow as tf\n",
    "import numpy as np\n",
    "import pandas as pd\n",
    "import matplotlib.pyplot as plt\n",
    "import cv2\n",
    "\n",
    "import random\n",
    "import os\n",
    "\n",
    "from globals import CLASSES_NAME"
   ]
  },
  {
   "cell_type": "code",
   "execution_count": null,
   "outputs": [],
   "source": [
    "# Define name of images and their annotation bbox\n",
    "train_images_path = \"dataset\\\\train-images.csv\"\n",
    "train_bbox_path = \"dataset\\\\train-annotations-bbox.csv\"\n",
    "\n",
    "train_images_df = pd.read_csv(train_images_path)\n",
    "train_bbox_df = pd.read_csv(train_bbox_path)\n",
    "\n",
    "# Print first 5 of dataframe\n",
    "print(train_images_df.head())\n",
    "print(train_bbox_df.head())\n"
   ],
   "metadata": {
    "collapsed": false,
    "pycharm": {
     "name": "#%%\n"
    }
   }
  },
  {
   "cell_type": "code",
   "execution_count": null,
   "outputs": [],
   "source": [
    "print(train_images_df.columns)\n",
    "print(np.size(train_images_df))"
   ],
   "metadata": {
    "collapsed": false,
    "pycharm": {
     "name": "#%%\n"
    }
   }
  },
  {
   "cell_type": "code",
   "execution_count": null,
   "outputs": [],
   "source": [
    "# Changing dataframes for comfortable usage\n",
    "train_images_df = train_images_df[[\"ImageID\"]]\n",
    "train_bbox_df = train_bbox_df[[\"ImageID\", \"LabelName\"]]\n",
    "train_bbox_df.rename(columns={\"LabelName\": \"LabelCode\"}, inplace=True)\n",
    "\n",
    "# Print changed dataframes\n",
    "print(train_images_df.head())\n",
    "print(train_bbox_df.head())"
   ],
   "metadata": {
    "collapsed": false,
    "pycharm": {
     "name": "#%%\n"
    }
   }
  },
  {
   "cell_type": "code",
   "execution_count": 25,
   "outputs": [
    {
     "name": "stdout",
     "output_type": "stream",
     "text": [
      "['/m/015p6', '/m/01dws', '/m/01yrx']\n"
     ]
    }
   ],
   "source": [
    "class_description_path = \"dataset\\\\class-descriptions.csv\"\n",
    "class_description_df = pd.read_csv(class_description_path)\n",
    "class_description_df.columns = [\"LabelCode\", \"LabelName\"]\n",
    "class_description_df = class_description_df.loc[class_description_df[\"LabelName\"].isin(CLASSES_NAME), \"LabelCode\"].tolist()\n",
    "print(class_description_df)"
   ],
   "metadata": {
    "collapsed": false,
    "pycharm": {
     "name": "#%%\n"
    }
   }
  },
  {
   "cell_type": "code",
   "execution_count": 74,
   "outputs": [],
   "source": [
    "# === Downloading dataset ===\n",
    "# Creating function for writing to file 10% of images from dataset\n",
    "def write_data_part_to_file(data_split, classes_name_df, percent_of_data=None):\n",
    "    \"\"\"\n",
    "    Function for creating list of images which will be downloaded and write that to txt file;\n",
    "    :param data_split: is string value (can be set as 'train', 'test' or 'validation';\n",
    "    :param percent_of_data: is the decimal value of per cent dataset which will be written to txt file;\n",
    "    :return: written file with a list of images to be downloaded.\n",
    "    \"\"\"\n",
    "\n",
    "    # Initializing file name for this part of split\n",
    "    images_name_path = \"dataset\\\\\"+data_split+\"-images.csv\"\n",
    "    images_bbox_path = \"dataset\\\\\"+data_split+\"-annotations-bbox.csv\"\n",
    "\n",
    "    # Defining DataFrame for this files\n",
    "    images_name_df = pd.read_csv(images_name_path, usecols=[\"ImageID\"])\n",
    "    images_bbox_df = pd.read_csv(images_bbox_path, usecols=[\"ImageID\", \"LabelName\"])\n",
    "\n",
    "    # Changing dataframes for comfortable usage\n",
    "    # images_name_df = images_name_df[[\"ImageID\"]]\n",
    "    # images_bbox_df = images_bbox_df[[\"ImageID\", \"LabelName\"]]\n",
    "    images_bbox_df.rename(columns={\"LabelName\": \"LabelCode\"}, inplace=True)\n",
    "\n",
    "    # Determining which image we need depending on whether our class is there\n",
    "    images_bbox_df = images_bbox_df.loc[images_bbox_df[\"LabelCode\"].isin(classes_name_df), \"ImageID\"]\n",
    "    images_name_df = images_name_df.loc[images_name_df[\"ImageID\"].isin(images_bbox_df.tolist())]\n",
    "    images_name_df = images_name_df.drop_duplicates()\n",
    "\n",
    "    # Split dataframe to percent_of_data for downloading not all images\n",
    "    print(f\"Before splitting {data_split} size: {np.size(images_name_df)}\")\n",
    "    images_name_list = []\n",
    "    if percent_of_data is not None:\n",
    "        images_name_df_index = images_name_df.index.tolist()\n",
    "        images_name_df_size = np.size(images_name_df_index)-1\n",
    "        images_name_df_index = images_name_df_index[:int(images_name_df_size * percent_of_data)]\n",
    "        for index in images_name_df_index:\n",
    "            if data_split == \"test\":\n",
    "                print(index)\n",
    "                print(images_name_df.loc[index].tolist()[0])\n",
    "            images_name_list.append(images_name_df.iloc[index].tolist()[0])\n",
    "        print(f\"Total {data_split} size: {np.size(images_name_list)}\")\n",
    "\n",
    "    # Writing list of images names to file\n",
    "    file_name = \"dataset\\\\images_name_lists\\\\\"+data_split+\"_images_list.txt\"\n",
    "\n",
    "    with open(file_name, \"w\") as file:\n",
    "        for image_id in images_name_list:\n",
    "            file.write(f\"{data_split}/{image_id}\\n\")\n"
   ],
   "metadata": {
    "collapsed": false,
    "pycharm": {
     "name": "#%%\n"
    }
   }
  },
  {
   "cell_type": "code",
   "execution_count": 75,
   "outputs": [
    {
     "name": "stdout",
     "output_type": "stream",
     "text": [
      "Before splitting train size: 31382\n",
      "Total train size: 313\n",
      "Before splitting test size: 2942\n",
      "86\n",
      "a6929d36cab14179\n",
      "99\n",
      "123b018bf069b759\n",
      "115\n",
      "a0ec2abf92636bdc\n",
      "155\n",
      "7869e1c856faf8c7\n",
      "172\n",
      "1e4d6d39aeb79611\n",
      "184\n",
      "26e3af433e3b258c\n",
      "243\n",
      "55e3fb35856e5b88\n",
      "264\n",
      "fb5291907c2ef672\n",
      "279\n",
      "cc4945655ce79a89\n",
      "336\n",
      "64103c4b84b9a880\n",
      "368\n",
      "89f24ade918c841b\n",
      "484\n",
      "3075e899a8d2ef86\n",
      "486\n",
      "d1d5ff637df50278\n",
      "513\n",
      "85ec1299d3ff234a\n",
      "572\n",
      "5618f72bdbac4529\n",
      "581\n",
      "3d101925007e26eb\n",
      "588\n",
      "62c9261e91e53009\n",
      "610\n",
      "5e4722478ab9c699\n",
      "656\n",
      "a834c103d1b009a2\n",
      "713\n",
      "157b05990f244c43\n",
      "743\n",
      "b83f0d431e35ab4d\n",
      "797\n",
      "7e03c4ec8575210e\n",
      "812\n",
      "4a108ea57c9d467b\n",
      "850\n",
      "bc1d08232c455d2a\n",
      "895\n",
      "65d707a37d182f21\n",
      "966\n",
      "ec34461c3b5cd072\n",
      "1021\n",
      "506a490a8486cc3f\n",
      "1095\n",
      "5ee994ee070b7a72\n",
      "1174\n",
      "3dae24fb08cfcd91\n",
      "1223\n",
      "c78e57055b0aa808\n",
      "1249\n",
      "38375791b9062603\n",
      "1252\n",
      "f257d651d2cd0e7d\n",
      "1296\n",
      "bb64a7e92f951b56\n",
      "1314\n",
      "4484c491cea3c7e9\n",
      "1319\n",
      "4ed9088fa5b4dda7\n",
      "1404\n",
      "947aa77e6d0fa828\n",
      "1425\n",
      "bb32d4035b4776ad\n",
      "1431\n",
      "66394e8bfd8a46b3\n",
      "1455\n",
      "15f31225779efbe6\n",
      "1492\n",
      "1ae6e1e3826f8702\n",
      "1506\n",
      "fa6fa452e8be7985\n",
      "1510\n",
      "41a68265ea64b5a4\n",
      "1524\n",
      "1ac22bddc2c4b063\n",
      "1532\n",
      "cd2173b492de3c2e\n",
      "1547\n",
      "530a59073149a771\n",
      "1606\n",
      "88ea10745cf661ae\n",
      "1614\n",
      "a35bfdad67e725b1\n",
      "1625\n",
      "23cf6cd2cf0c77b3\n",
      "1638\n",
      "c1228ee5dc659bf8\n",
      "1647\n",
      "509d5158f4eb0a39\n",
      "1697\n",
      "52f4e7f5c93e3d75\n",
      "1710\n",
      "2c70c376aeb96743\n",
      "1764\n",
      "f871dfca264c7d46\n",
      "1827\n",
      "d6ee89d1817e4f57\n",
      "1926\n",
      "0b59ee0b31a5ab4e\n",
      "1930\n",
      "55938ca508393b8f\n",
      "2051\n",
      "c7d95a37176868c9\n",
      "2087\n",
      "a354de5723d26a53\n",
      "2126\n",
      "36b1367a917c2e55\n",
      "2158\n",
      "de8f8d687fd97aa0\n",
      "2184\n",
      "ae2677268e3a7e9e\n",
      "2239\n",
      "3013d00e41608106\n",
      "2273\n",
      "f85eaae5b2c73a12\n",
      "2347\n",
      "153e2abfdfd4affe\n",
      "2350\n",
      "bb1545979ce378e2\n",
      "2358\n",
      "d62994f984c1fc63\n",
      "2359\n",
      "e38b9f1cc2c7738c\n",
      "2373\n",
      "4d2786e4d0239451\n",
      "2400\n",
      "c2b074a62f9e6631\n",
      "2423\n",
      "deec76c0bcbba90a\n",
      "2450\n",
      "98d3cb2054aa8a98\n",
      "2464\n",
      "37b43421d1b20e30\n",
      "2498\n",
      "595839014f60f4f1\n",
      "2546\n",
      "48d878828eced4f3\n",
      "2582\n",
      "aea7138636948eee\n",
      "2593\n",
      "f2aa1c5e06bc7f12\n",
      "2671\n",
      "8d8582496e68a2f6\n",
      "2761\n",
      "2826b4b29d9b5a04\n",
      "2767\n",
      "aee731dddf0d63e1\n",
      "2798\n",
      "3d7e1b0fddb65e38\n",
      "2813\n",
      "f06ef19bdd449817\n",
      "2930\n",
      "a5867d63225cc4a4\n",
      "2939\n",
      "d7445bdf4ee2059b\n",
      "2951\n",
      "37a5383288ed3404\n"
     ]
    },
    {
     "ename": "IndexError",
     "evalue": "single positional indexer is out-of-bounds",
     "output_type": "error",
     "traceback": [
      "\u001B[1;31m---------------------------------------------------------------------------\u001B[0m",
      "\u001B[1;31mIndexError\u001B[0m                                Traceback (most recent call last)",
      "Cell \u001B[1;32mIn [75], line 3\u001B[0m\n\u001B[0;32m      1\u001B[0m \u001B[38;5;66;03m# Using function for creating images name list file for downloading images\u001B[39;00m\n\u001B[0;32m      2\u001B[0m write_data_part_to_file(\u001B[38;5;124m\"\u001B[39m\u001B[38;5;124mtrain\u001B[39m\u001B[38;5;124m\"\u001B[39m, class_description_df, percent_of_data\u001B[38;5;241m=\u001B[39m\u001B[38;5;241m0.01\u001B[39m)\n\u001B[1;32m----> 3\u001B[0m write_data_part_to_file(\u001B[38;5;124m\"\u001B[39m\u001B[38;5;124mtest\u001B[39m\u001B[38;5;124m\"\u001B[39m, class_description_df, percent_of_data\u001B[38;5;241m=\u001B[39m\u001B[38;5;241m0.1\u001B[39m)\n\u001B[0;32m      4\u001B[0m write_data_part_to_file(\u001B[38;5;124m\"\u001B[39m\u001B[38;5;124mvalidation\u001B[39m\u001B[38;5;124m\"\u001B[39m, class_description_df, percent_of_data\u001B[38;5;241m=\u001B[39m\u001B[38;5;241m1\u001B[39m)\n",
      "Cell \u001B[1;32mIn [74], line 40\u001B[0m, in \u001B[0;36mwrite_data_part_to_file\u001B[1;34m(data_split, classes_name_df, percent_of_data)\u001B[0m\n\u001B[0;32m     38\u001B[0m             \u001B[38;5;28mprint\u001B[39m(index)\n\u001B[0;32m     39\u001B[0m             \u001B[38;5;28mprint\u001B[39m(images_name_df\u001B[38;5;241m.\u001B[39mloc[index]\u001B[38;5;241m.\u001B[39mtolist()[\u001B[38;5;241m0\u001B[39m])\n\u001B[1;32m---> 40\u001B[0m         images_name_list\u001B[38;5;241m.\u001B[39mappend(\u001B[43mimages_name_df\u001B[49m\u001B[38;5;241;43m.\u001B[39;49m\u001B[43miloc\u001B[49m\u001B[43m[\u001B[49m\u001B[43mindex\u001B[49m\u001B[43m]\u001B[49m\u001B[38;5;241m.\u001B[39mtolist()[\u001B[38;5;241m0\u001B[39m])\n\u001B[0;32m     41\u001B[0m     \u001B[38;5;28mprint\u001B[39m(\u001B[38;5;124mf\u001B[39m\u001B[38;5;124m\"\u001B[39m\u001B[38;5;124mTotal \u001B[39m\u001B[38;5;132;01m{\u001B[39;00mdata_split\u001B[38;5;132;01m}\u001B[39;00m\u001B[38;5;124m size: \u001B[39m\u001B[38;5;132;01m{\u001B[39;00mnp\u001B[38;5;241m.\u001B[39msize(images_name_list)\u001B[38;5;132;01m}\u001B[39;00m\u001B[38;5;124m\"\u001B[39m)\n\u001B[0;32m     43\u001B[0m \u001B[38;5;66;03m# Writing list of images names to file\u001B[39;00m\n",
      "File \u001B[1;32mD:\\.main\\.code\\oid_challenge\\venv\\lib\\site-packages\\pandas\\core\\indexing.py:1074\u001B[0m, in \u001B[0;36m_LocationIndexer.__getitem__\u001B[1;34m(self, key)\u001B[0m\n\u001B[0;32m   1071\u001B[0m axis \u001B[38;5;241m=\u001B[39m \u001B[38;5;28mself\u001B[39m\u001B[38;5;241m.\u001B[39maxis \u001B[38;5;129;01mor\u001B[39;00m \u001B[38;5;241m0\u001B[39m\n\u001B[0;32m   1073\u001B[0m maybe_callable \u001B[38;5;241m=\u001B[39m com\u001B[38;5;241m.\u001B[39mapply_if_callable(key, \u001B[38;5;28mself\u001B[39m\u001B[38;5;241m.\u001B[39mobj)\n\u001B[1;32m-> 1074\u001B[0m \u001B[38;5;28;01mreturn\u001B[39;00m \u001B[38;5;28;43mself\u001B[39;49m\u001B[38;5;241;43m.\u001B[39;49m\u001B[43m_getitem_axis\u001B[49m\u001B[43m(\u001B[49m\u001B[43mmaybe_callable\u001B[49m\u001B[43m,\u001B[49m\u001B[43m \u001B[49m\u001B[43maxis\u001B[49m\u001B[38;5;241;43m=\u001B[39;49m\u001B[43maxis\u001B[49m\u001B[43m)\u001B[49m\n",
      "File \u001B[1;32mD:\\.main\\.code\\oid_challenge\\venv\\lib\\site-packages\\pandas\\core\\indexing.py:1626\u001B[0m, in \u001B[0;36m_iLocIndexer._getitem_axis\u001B[1;34m(self, key, axis)\u001B[0m\n\u001B[0;32m   1623\u001B[0m     \u001B[38;5;28;01mraise\u001B[39;00m \u001B[38;5;167;01mTypeError\u001B[39;00m(\u001B[38;5;124m\"\u001B[39m\u001B[38;5;124mCannot index by location index with a non-integer key\u001B[39m\u001B[38;5;124m\"\u001B[39m)\n\u001B[0;32m   1625\u001B[0m \u001B[38;5;66;03m# validate the location\u001B[39;00m\n\u001B[1;32m-> 1626\u001B[0m \u001B[38;5;28;43mself\u001B[39;49m\u001B[38;5;241;43m.\u001B[39;49m\u001B[43m_validate_integer\u001B[49m\u001B[43m(\u001B[49m\u001B[43mkey\u001B[49m\u001B[43m,\u001B[49m\u001B[43m \u001B[49m\u001B[43maxis\u001B[49m\u001B[43m)\u001B[49m\n\u001B[0;32m   1628\u001B[0m \u001B[38;5;28;01mreturn\u001B[39;00m \u001B[38;5;28mself\u001B[39m\u001B[38;5;241m.\u001B[39mobj\u001B[38;5;241m.\u001B[39m_ixs(key, axis\u001B[38;5;241m=\u001B[39maxis)\n",
      "File \u001B[1;32mD:\\.main\\.code\\oid_challenge\\venv\\lib\\site-packages\\pandas\\core\\indexing.py:1558\u001B[0m, in \u001B[0;36m_iLocIndexer._validate_integer\u001B[1;34m(self, key, axis)\u001B[0m\n\u001B[0;32m   1556\u001B[0m len_axis \u001B[38;5;241m=\u001B[39m \u001B[38;5;28mlen\u001B[39m(\u001B[38;5;28mself\u001B[39m\u001B[38;5;241m.\u001B[39mobj\u001B[38;5;241m.\u001B[39m_get_axis(axis))\n\u001B[0;32m   1557\u001B[0m \u001B[38;5;28;01mif\u001B[39;00m key \u001B[38;5;241m>\u001B[39m\u001B[38;5;241m=\u001B[39m len_axis \u001B[38;5;129;01mor\u001B[39;00m key \u001B[38;5;241m<\u001B[39m \u001B[38;5;241m-\u001B[39mlen_axis:\n\u001B[1;32m-> 1558\u001B[0m     \u001B[38;5;28;01mraise\u001B[39;00m \u001B[38;5;167;01mIndexError\u001B[39;00m(\u001B[38;5;124m\"\u001B[39m\u001B[38;5;124msingle positional indexer is out-of-bounds\u001B[39m\u001B[38;5;124m\"\u001B[39m)\n",
      "\u001B[1;31mIndexError\u001B[0m: single positional indexer is out-of-bounds"
     ]
    }
   ],
   "source": [
    "# Using function for creating images name list file for downloading images\n",
    "write_data_part_to_file(\"train\", class_description_df, percent_of_data=0.01)\n",
    "write_data_part_to_file(\"test\", class_description_df, percent_of_data=0.1)\n",
    "write_data_part_to_file(\"validation\", class_description_df, percent_of_data=1)\n"
   ],
   "metadata": {
    "collapsed": false,
    "pycharm": {
     "name": "#%%\n"
    }
   }
  },
  {
   "cell_type": "code",
   "execution_count": null,
   "outputs": [],
   "source": [],
   "metadata": {
    "collapsed": false,
    "pycharm": {
     "name": "#%%\n"
    }
   }
  }
 ],
 "metadata": {
  "kernelspec": {
   "display_name": "Python 3",
   "language": "python",
   "name": "python3"
  },
  "language_info": {
   "codemirror_mode": {
    "name": "ipython",
    "version": 2
   },
   "file_extension": ".py",
   "mimetype": "text/x-python",
   "name": "python",
   "nbconvert_exporter": "python",
   "pygments_lexer": "ipython2",
   "version": "2.7.6"
  }
 },
 "nbformat": 4,
 "nbformat_minor": 0
}