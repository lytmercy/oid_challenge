{
 "cells": [
  {
   "cell_type": "code",
   "execution_count": 2,
   "metadata": {
    "collapsed": true,
    "pycharm": {
     "name": "#%%\n"
    }
   },
   "outputs": [],
   "source": [
    "# Import requirement libraries\n",
    "import tensorflow as tf\n",
    "import pandas as pd\n",
    "import matplotlib.pyplot as plt\n",
    "import cv2\n",
    "\n",
    "import random\n",
    "import os\n",
    "\n",
    "from globals import CLASSES_NAME"
   ]
  },
  {
   "cell_type": "code",
   "execution_count": 4,
   "outputs": [],
   "source": [
    "# === Downloading dataset ===\n",
    "# Creating function for writing to file 10% of images from dataset\n",
    "def download_data_part(data_split, percent_of_data=0.2):\n",
    "    \"\"\"\n",
    "    Function for creating list of images which will be downloaded and write that to txt file;\n",
    "    :param data_split: is string value (can be set as 'train', 'test' or 'validation';\n",
    "    :param percent_of_data: is the decimal value of per cent dataset which will be written to txt file;\n",
    "    :return: written file with a list of images to be downloaded.\n",
    "    \"\"\"\n",
    "\n",
    "    # Initializing file name for this part of split\n",
    "    images_name_path = data_split+\"-images.csv\"\n",
    "    images_bbox_path = data_split+\"-annotations-bbox.csv\"\n",
    "    class_description_path = \"class_descriptions.csv\"\n",
    "\n",
    "    # Defining DataFrame for this files\n",
    "    images_name_df = pd.read_csv(images_name_path)\n",
    "    images_bbox_df = pd.read_csv(images_bbox_path)\n",
    "    class_description_df = pd.read_csv(class_description_path)\n",
    "\n",
    "    # Determining which image we need depending on whether our class is there\n",
    "\n",
    "\n"
   ],
   "metadata": {
    "collapsed": false,
    "pycharm": {
     "name": "#%%\n"
    }
   }
  },
  {
   "cell_type": "code",
   "execution_count": null,
   "outputs": [],
   "source": [],
   "metadata": {
    "collapsed": false,
    "pycharm": {
     "name": "#%%\n"
    }
   }
  }
 ],
 "metadata": {
  "kernelspec": {
   "display_name": "Python 3",
   "language": "python",
   "name": "python3"
  },
  "language_info": {
   "codemirror_mode": {
    "name": "ipython",
    "version": 2
   },
   "file_extension": ".py",
   "mimetype": "text/x-python",
   "name": "python",
   "nbconvert_exporter": "python",
   "pygments_lexer": "ipython2",
   "version": "2.7.6"
  }
 },
 "nbformat": 4,
 "nbformat_minor": 0
}